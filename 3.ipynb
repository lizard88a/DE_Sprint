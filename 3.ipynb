{
 "cells": [
  {
   "cell_type": "code",
   "execution_count": 10,
   "metadata": {},
   "outputs": [
    {
     "data": {
      "text/plain": [
       "'MD'"
      ]
     },
     "execution_count": 10,
     "metadata": {},
     "output_type": "execute_result"
    }
   ],
   "source": [
    "ROMAN_TABLE = ((1000, 'M'), (900, 'CM'), (500, 'D'), (400, 'CD'),\n",
    "(100, 'C'), (90, 'XC'), (50, 'L'), (40, 'XL'),\n",
    "(10, 'X'), (9, 'IX'), (5, 'V'), (4, 'IV'), (1, 'I'))\n",
    "\n",
    "\n",
    "def checkio(number):\n",
    "    if number <= 0: return ''\n",
    "\n",
    "    rez_roma = ''\n",
    "    for arab, roman in ROMAN_TABLE:\n",
    "        while number >= arab:\n",
    "            rez_roma += roman\n",
    "            number -= arab\n",
    "    return rez_roma\n",
    "\n",
    "checkio(1500)"
   ]
  }
 ],
 "metadata": {
  "kernelspec": {
   "display_name": "Python 3",
   "language": "python",
   "name": "python3"
  },
  "language_info": {
   "codemirror_mode": {
    "name": "ipython",
    "version": 3
   },
   "file_extension": ".py",
   "mimetype": "text/x-python",
   "name": "python",
   "nbconvert_exporter": "python",
   "pygments_lexer": "ipython3",
   "version": "3.6.6+"
  }
 },
 "nbformat": 4,
 "nbformat_minor": 2
}
