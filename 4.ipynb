{
 "cells": [
  {
   "cell_type": "code",
   "execution_count": 2,
   "metadata": {},
   "outputs": [
    {
     "data": {
      "text/plain": [
       "False"
      ]
     },
     "execution_count": 2,
     "metadata": {},
     "output_type": "execute_result"
    }
   ],
   "source": [
    "def check(string):\n",
    "    brackets_open = ('(', '[', '{')\n",
    "    brackets_closed = (')', ']', '}')\n",
    "    stack = []\n",
    "    for i in string:\n",
    "        if i in brackets_open:\n",
    "            stack.append(i)\n",
    "        if i in brackets_closed:    \n",
    "            if len(stack) == 0:\n",
    "                return False\n",
    "            index = brackets_closed.index(i)\n",
    "            open_bracket = brackets_open[index]\n",
    "            if stack[-1] == open_bracket:\n",
    "                stack = stack[:-1]  \n",
    "            else: return False  \n",
    "    return (not stack)\n",
    "check('([)])')"
   ]
  }
 ],
 "metadata": {
  "kernelspec": {
   "display_name": "Python 3",
   "language": "python",
   "name": "python3"
  },
  "language_info": {
   "codemirror_mode": {
    "name": "ipython",
    "version": 3
   },
   "file_extension": ".py",
   "mimetype": "text/x-python",
   "name": "python",
   "nbconvert_exporter": "python",
   "pygments_lexer": "ipython3",
   "version": "3.6.6+"
  }
 },
 "nbformat": 4,
 "nbformat_minor": 2
}
